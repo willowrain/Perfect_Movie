{
 "cells": [
  {
   "cell_type": "code",
   "execution_count": 1,
   "metadata": {},
   "outputs": [],
   "source": [
    "import requests\n",
    "import urllib\n",
    "import requests_html\n",
    "import string\n",
    "import time\n",
    "import json\n",
    "import re\n",
    "import typing\n",
    "import pandas as pd\n",
    "\n",
    "from requests_html import HTMLSession\n",
    "from bs4 import BeautifulSoup as Soup"
   ]
  },
  {
   "cell_type": "code",
   "execution_count": 11,
   "metadata": {},
   "outputs": [],
   "source": [
    "if __name__ == \"__main__\":\n",
    "\n",
    "    page = 'https://www.imdb.com/title/'\n",
    "    \n",
    "'''\n",
    "    movie_data = pd.read_csv('failed_data.csv')\n",
    "\n",
    "    codes_list = movie_data[\"Code\"].tolist()\n",
    "'''\n",
    "\n",
    "codes_list = ['tt1049951']"
   ]
  },
  {
   "cell_type": "code",
   "execution_count": 17,
   "metadata": {},
   "outputs": [
    {
     "name": "stdout",
     "output_type": "stream",
     "text": [
      "<div class=\"credit_summary_item\">\n",
      "<h4 class=\"inline\">Note:</h4> Because this project is categorized as <i>in development,</i> the data is only available on\n",
      "                <a href=\"https://pro.imdb.com/title/tt1049951?rf=cons_tt_indev_note\">IMDbPro</a>\n",
      " and is subject to change.\n",
      "    </div>\n",
      "0\n",
      "['tt1049951']\n",
      "['FAIL']\n",
      "[['in progress']]\n"
     ]
    }
   ],
   "source": [
    "    results = []\n",
    "    cause = []\n",
    "    i=0\n",
    "\n",
    "    for code in codes_list:\n",
    "        result = 'FAIL'\n",
    "        reasons = []\n",
    "        \n",
    "        try:\n",
    "            new_page = page + code\n",
    "            task_main = new_page\n",
    "            response_main = requests.get(task_main)\n",
    "            data_main = response_main.text\n",
    "            soup_main = Soup(data_main, 'lxml')\n",
    "            \n",
    "            try:\n",
    "                tags = soup_main.find('div', class_='credit_summary_item')\n",
    "                print(tags)\n",
    "                string = \"in development\"\n",
    "                if (string) in str(tags):\n",
    "                    result = 'PASS'\n",
    "                    reasons.append('in progress')\n",
    "            except:\n",
    "                pass\n",
    "                \n",
    "            try:\n",
    "                tags = soup_main.find('div', id='titleDetails')\n",
    "                country = tags.find('div', class_='txt-block')\n",
    "                if 'United States' not in country:\n",
    "                    result = 'PASS'\n",
    "                    reasons.append('foreign')\n",
    "            except:\n",
    "                pass\n",
    "            \n",
    "            try:\n",
    "                tags = soup_main.find_all('div', class_='see-more inline canwrap')\n",
    "                for category in tags:\n",
    "                    category = str(category)\n",
    "                    if \"genre\" in category:\n",
    "                        genre_tag = category\n",
    "                if \"Documentary\" in genre_tag:\n",
    "                    result = 'PASS'\n",
    "                    reasons.append('documentary')\n",
    "            except:\n",
    "                pass\n",
    "            \n",
    "        except:\n",
    "            result = ('FAIL')\n",
    "            reasons.append('soup')\n",
    "\n",
    "        if reasons == []:\n",
    "            result = ('FAIL')\n",
    "            reasons.append('unknown')\n",
    "            \n",
    "        results.append(result)\n",
    "        cause.append(reasons)\n",
    "        \n",
    "        print(i)\n",
    "        i += 1\n",
    "        \n",
    "    print(codes_list)\n",
    "    print(results)\n",
    "    print(cause)"
   ]
  },
  {
   "cell_type": "code",
   "execution_count": null,
   "metadata": {},
   "outputs": [],
   "source": []
  }
 ],
 "metadata": {
  "kernelspec": {
   "display_name": "Python 3",
   "language": "python",
   "name": "python3"
  },
  "language_info": {
   "codemirror_mode": {
    "name": "ipython",
    "version": 3
   },
   "file_extension": ".py",
   "mimetype": "text/x-python",
   "name": "python",
   "nbconvert_exporter": "python",
   "pygments_lexer": "ipython3",
   "version": "3.8.3"
  }
 },
 "nbformat": 4,
 "nbformat_minor": 4
}
